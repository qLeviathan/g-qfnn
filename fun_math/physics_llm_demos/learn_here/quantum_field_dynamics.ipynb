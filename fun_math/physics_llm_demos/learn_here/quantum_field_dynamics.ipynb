{
 "cells": [
  {
   "cell_type": "markdown",
   "metadata": {},
   "source": [
    "# Quantum Field Neural Network with Log-Cylindrical Dynamics\n",
    "\n",
    "This notebook demonstrates the implementation of a quantum field neural network using log-cylindrical embeddings and dual vortex dynamics with tachyonic tunneling. The implementation follows the approach described in the white paper, using GPU-accelerated parallel processing for optimal performance.\n",
    "\n",
    "Key components:\n",
    "1. **Log-cylindrical coordinates**: Numerical stability across many orders of magnitude\n",
    "2. **Sparse Hebbian learning**: O(N·k) complexity with logarithmic coupling values\n",
    "3. **Dual vortex field dynamics**: Repulsive forces in log-space with tachyonic tunneling\n",
    "4. **CUDA acceleration**: GPU-optimized parallel operations\n",
    "\n",
    "Let's start by importing the necessary libraries and setting up our environment."
   ]
  },
  {
   "cell_type": "code",
   "execution_count": null,
   "metadata": {},
   "outputs": [],
   "source": [
    "# Core libraries\n",
    "import torch\n",
    "import numpy as np\n",
    "import matplotlib.pyplot as plt\n",
    "from mpl_toolkits.mplot3d import Axes3D\n",
    "import time\n",
    "from typing import Tuple, Dict, List, Optional\n",
    "import os\n",
    "\n",
    "# Import our custom modules\n",
    "from log_coords import LogCylindricalCoords\n",
    "from log_hebbian import SparseLogHebbian\n",
    "from dual_vortex import DualVortexField\n",
    "from quantum_field_nn import QuantumFieldNN\n",
    "\n",
    "# Set plotting style\n",
    "plt.style.use('dark_background')\n",
    "\n",
    "# Create output directory\n",
    "os.makedirs('notebook_outputs', exist_ok=True)"
   ]
  },
  {
   "cell_type": "markdown",
   "metadata": {},
   "source": [
    "## 1. Device Selection and Constants\n",
    "\n",
    "We'll first verify CUDA availability and establish our constants. The system uses the golden ratio (φ) as the basis for many of its parameters, following the white paper specifications."
   ]
  },
  {
   "cell_type": "code",
   "execution_count": null,
   "metadata": {},
   "outputs": [],
   "source": [
    "# Check for CUDA availability\n",
    "device = torch.device('cuda' if torch.cuda.is_available() else 'cpu')\n",
    "print(f\"Using device: {device}\")\n",
    "if device.type == 'cuda':\n",
    "    print(f\"CUDA Device: {torch.cuda.get_device_name(0)}\")\n",
    "    print(f\"CUDA Version: {torch.version.cuda}\")\n",
    "    print(f\"Memory allocated: {torch.cuda.memory_allocated(0) / 1024**2:.2f} MB\")\n",
    "    print(f\"Memory cached: {torch.cuda.memory_reserved(0) / 1024**2:.2f} MB\")\n",
    "\n",
    "# Constants - all on device\n",
    "PHI = torch.tensor((1 + np.sqrt(5)) / 2, device=device)  # Golden ratio\n",
    "PI = torch.tensor(np.pi, device=device)\n",
    "TAU = torch.tensor(2 * np.pi, device=device)  # Full circle in radians\n",
    "EPS = torch.tensor(1e-10, device=device)  # Small epsilon for numerical stability\n",
    "\n",
    "# Key constants from whitepaper\n",
    "DT = PHI ** (-2)  # Default timestep\n",
    "LAMBDA_CUTOFF = PHI ** 2  # Log-metric cut-off\n",
    "SIGMA_GATE = PI / PHI  # Rotor half-width\n",
    "EPS_FREEZE = PHI ** (-3)  # Force & velocity tolerance\n",
    "Z_STEP = TAU / (PHI ** 3)  # Rotor increment per DT\n",
    "ALPHA_LEVY = PHI  # Lévy index\n",
    "\n",
    "print(f\"\\nSystem Constants:\")\n",
    "print(f\"φ (Golden ratio) = {PHI.item():.8f}\")\n",
    "print(f\"DT (Default timestep) = φ^(-2) = {DT.item():.8f}\")\n",
    "print(f\"λ (Log-metric cut-off) = φ^2 = {LAMBDA_CUTOFF.item():.8f}\")\n",
    "print(f\"σ_gate (Rotor half-width) = π/φ = {SIGMA_GATE.item():.8f}\")\n",
    "print(f\"ε_freeze (Force tolerance) = φ^(-3) = {EPS_FREEZE.item():.8f}\")\n",
    "print(f\"Z_step (Rotor increment) = 2π/φ^3 = {Z_STEP.item():.8f}\")"
   ]
  },
  {
   "cell_type": "markdown",
   "metadata": {},
   "source": [
    "## 2. Log-Cylindrical Coordinate System\n",
    "\n",
    "The log-cylindrical coordinate system is the foundation of our model. By working in log-space, we gain numerical stability across many orders of magnitude, which is crucial for quantum field dynamics.\n",
    "\n",
    "Let's create the coordinate system and visualize some basic properties:"
   ]
  },
  {
   "cell_type": "code",
   "execution_count": null,
   "metadata": {},
   "outputs": [],
   "source": [
    "# Create coordinate system\n",
    "coords = LogCylindricalCoords(device=device)\n",
    "\n",
    "# Generate golden spiral with N tokens\n",
    "N = 200\n",
    "ln_r, theta = coords.generate_golden_spiral(N)\n",
    "\n",
    "# Transfer to CPU for visualization\n",
    "ln_r_cpu = ln_r.cpu().numpy()\n",
    "theta_cpu = theta.cpu().numpy()\n",
    "\n",
    "# Convert to Cartesian\n",
    "x, y = coords.ln_r_theta_to_cartesian(ln_r, theta)\n",
    "x_cpu = x.cpu().numpy()\n",
    "y_cpu = y.cpu().numpy()\n",
    "\n",
    "# Create comparison figure\n",
    "fig, axes = plt.subplots(1, 2, figsize=(15, 7))\n",
    "\n",
    "# Plot in log-cylindrical space\n",
    "axes[0].scatter(ln_r_cpu, theta_cpu, c=np.arange(N), cmap='viridis', s=30, alpha=0.7)\n",
    "axes[0].set_xlabel('ln(r)')\n",
    "axes[0].set_ylabel('θ')\n",
    "axes[0].set_title('Log-Cylindrical Coordinates')\n",
    "axes[0].grid(True, alpha=0.3)\n",
    "\n",
    "# Plot in Cartesian space\n",
    "scatter = axes[1].scatter(x_cpu, y_cpu, c=np.arange(N), cmap='viridis', s=30, alpha=0.7)\n",
    "axes[1].set_xlabel('x')\n",
    "axes[1].set_ylabel('y')\n",
    "axes[1].set_title('Cartesian Coordinates')\n",
    "axes[1].set_aspect('equal')\n",
    "axes[1].grid(True, alpha=0.3)\n",
    "\n",
    "plt.colorbar(scatter, ax=axes[1], label='Token Index')\n",
    "plt.tight_layout()\n",
    "plt.savefig('notebook_outputs/log_cylindrical_visualization.png', dpi=200)\n",
    "plt.show()"
   ]
  },
  {
   "cell_type": "markdown",
   "metadata": {},
   "source": [
    "### 2.1 Log-Cartesian Distance Calculation\n",
    "\n",
    "A key advantage of log-cylindrical coordinates is the ability to compute distances across many orders of magnitude with high precision. Let's demonstrate this with a distance calculation comparison:"
   ]
  },
  {
   "cell_type": "code",
   "execution_count": null,
   "metadata": {},
   "outputs": [],
   "source": [
    "# Let's select some test points\n",
    "i1, i2 = 0, N//4  # Points that are far apart\n",
    "i3, i4 = N//2, N//2 + 1  # Points that are close together\n",
    "\n",
    "# Log-cylindrical distance for far points\n",
    "ln_dist_far = coords.log_cartesian_distance(ln_r[i1], theta[i1], ln_r[i2], theta[i2])\n",
    "dist_far = torch.exp(ln_dist_far)\n",
    "\n",
    "# Log-cylindrical distance for close points\n",
    "ln_dist_close = coords.log_cartesian_distance(ln_r[i3], theta[i3], ln_r[i4], theta[i4])\n",
    "dist_close = torch.exp(ln_dist_close)\n",
    "\n",
    "# Standard Cartesian distance for comparison\n",
    "cart_dist_far = torch.sqrt((x[i1] - x[i2])**2 + (y[i1] - y[i2])**2)\n",
    "cart_dist_close = torch.sqrt((x[i3] - x[i4])**2 + (y[i3] - y[i4])**2)\n",
    "\n",
    "print(f\"Distance between far points (indices {i1} and {i2}):\")\n",
    "print(f\"  Log-cylindrical: ln(dist) = {ln_dist_far.item():.6f}, dist = {dist_far.item():.6f}\")\n",
    "print(f\"  Standard Cartesian: {cart_dist_far.item():.6f}\")\n",
    "print(f\"  Relative error: {abs(dist_far.item() - cart_dist_far.item()) / cart_dist_far.item():.8f}\")\n",
    "\n",
    "print(f\"\\nDistance between close points (indices {i3} and {i4}):\")\n",
    "print(f\"  Log-cylindrical: ln(dist) = {ln_dist_close.item():.6f}, dist = {dist_close.item():.6f}\")\n",
    "print(f\"  Standard Cartesian: {cart_dist_close.item():.6f}\")\n",
    "print(f\"  Relative error: {abs(dist_close.item() - cart_dist_close.item()) / cart_dist_close.item():.8f}\")"
   ]
  },
  {
   "cell_type": "markdown",
   "metadata": {},
   "source": [
    "### 2.2 Ablation Study: Numerical Stability Across Scales\n",
    "\n",
    "Let's demonstrate the numerical stability of our log-cylindrical coordinates across a wide range of scales, compared to standard Cartesian coordinates:"
   ]
  },
  {
   "cell_type": "code",
   "metadata": {},
   "outputs": [],
   "source": "# Generate points across a wide range of scales\nscales = torch.logspace(-10, 10, 21, device=device)  # From 10^-10 to 10^10\n\n# Test point at origin (problematic in regular coords)\nln_r0 = torch.tensor(-20.0, device=device)  # Very small radius\ntheta0 = torch.tensor(0.0, device=device)\nx0, y0 = coords.ln_r_theta_to_cartesian(ln_r0, theta0)\n\n# Arrays to store results\nstd_errors = []\nlog_errors = []\n\nfor scale in scales:\n    # Create points at different scales\n    ln_r1 = torch.log(scale)\n    theta1 = torch.tensor(PI/4, device=device)  # 45 degrees\n    x1, y1 = coords.ln_r_theta_to_cartesian(ln_r1, theta1)\n    \n    # True distance - distance from point (x0,y0) ≈ (0,0) to (x1,y1)\n    # For a point at 45 degrees, this is approximately the scale itself\n    true_dist = scale * torch.sqrt(torch.tensor(2.0)) / 2  # Correct for 45 degree angle\n    \n    # Standard Cartesian calculation\n    std_dist = torch.sqrt((x1 - x0)**2 + (y1 - y0)**2)\n    std_error = abs(std_dist - true_dist) / (true_dist + EPS)\n    std_errors.append(std_error.item())\n    \n    # Log-cylindrical calculation\n    ln_dist = coords.log_cartesian_distance(ln_r0, theta0, ln_r1, theta1)\n    log_dist = torch.exp(ln_dist)\n    log_error = abs(log_dist - true_dist) / (true_dist + EPS)\n    log_errors.append(log_error.item())\n\n# Plot results\nplt.figure(figsize=(12, 6))\nplt.loglog(scales.cpu().numpy(), std_errors, 'b-', label='Standard Cartesian', linewidth=2)\nplt.loglog(scales.cpu().numpy(), log_errors, 'r-', label='Log-Cylindrical', linewidth=2)\nplt.xlabel('Scale')\nplt.ylabel('Relative Error')\nplt.title('Numerical Stability Across Scales')\nplt.grid(True, alpha=0.3)\nplt.legend()\nplt.savefig('notebook_outputs/numerical_stability.png', dpi=200)\nplt.show()\n\n# Print summary\nprint(f\"Standard Cartesian error range: [{min(std_errors):.2e}, {max(std_errors):.2e}]\")\nprint(f\"Log-Cylindrical error range: [{min(log_errors):.2e}, {max(log_errors):.2e}]\")"
  },
  {
   "cell_type": "markdown",
   "metadata": {},
   "source": [
    "## 3. Sparse Log-Hebbian Learning\n",
    "\n",
    "The Hebbian learning component uses a sparse matrix in log-space to efficiently encode token relationships. This provides O(N·k) complexity instead of O(N²), where k is the average number of connections per token.\n",
    "\n",
    "Let's initialize and visualize the Hebbian network:"
   ]
  },
  {
   "cell_type": "code",
   "execution_count": null,
   "metadata": {},
   "outputs": [],
   "source": [
    "# Create Hebbian network\n",
    "hebbian = SparseLogHebbian(N, device=device)\n",
    "\n",
    "# Perform several Hebbian updates\n",
    "print(\"Performing Hebbian updates...\")\n",
    "start_time = time.time()\n",
    "\n",
    "num_updates = 5\n",
    "dt = 0.1\n",
    "connection_history = []\n",
    "\n",
    "for i in range(num_updates):\n",
    "    hebbian.log_update(ln_r, theta, coords, dt)\n",
    "    connection_count = len(hebbian.indices)\n",
    "    connection_history.append(connection_count)\n",
    "    print(f\"Update {i+1}/{num_updates}: {connection_count} connections\")\n",
    "\n",
    "end_time = time.time()\n",
    "print(f\"Hebbian updates completed in {end_time - start_time:.2f} seconds\")\n",
    "\n",
    "# Compute pitch (preferred angle) for each token\n",
    "pitch = hebbian.compute_hebbian_pitch(theta)\n",
    "pitch_cpu = pitch.cpu().numpy()\n",
    "\n",
    "# Compute pitch alignment error\n",
    "d_theta = torch.remainder(pitch - theta + PI, TAU) - PI\n",
    "d_theta_cpu = d_theta.cpu().numpy()\n",
    "\n",
    "# Plot connection growth\n",
    "plt.figure(figsize=(10, 5))\n",
    "plt.plot(range(1, num_updates+1), connection_history, 'g-o', linewidth=2)\n",
    "plt.xlabel('Update Step')\n",
    "plt.ylabel('Number of Connections')\n",
    "plt.title('Hebbian Connection Growth')\n",
    "plt.grid(True, alpha=0.3)\n",
    "plt.savefig('notebook_outputs/hebbian_connection_growth.png', dpi=200)\n",
    "plt.show()"
   ]
  },
  {
   "cell_type": "markdown",
   "metadata": {},
   "source": [
    "### 3.1 Visualizing Hebbian Networks\n",
    "\n",
    "Let's visualize the Hebbian network structure and the pitch alignment:"
   ]
  },
  {
   "cell_type": "code",
   "execution_count": null,
   "metadata": {},
   "outputs": [],
   "source": [
    "# Create figure\n",
    "fig, axes = plt.subplots(2, 2, figsize=(14, 12))\n",
    "\n",
    "# Plot tokens in Cartesian space\n",
    "scatter = axes[0, 0].scatter(x_cpu, y_cpu, c=theta_cpu, cmap='hsv', s=50, alpha=0.7)\n",
    "axes[0, 0].set_xlabel('x')\n",
    "axes[0, 0].set_ylabel('y')\n",
    "axes[0, 0].set_title('Token Positions (colored by θ)')\n",
    "axes[0, 0].set_aspect('equal')\n",
    "axes[0, 0].grid(True, alpha=0.3)\n",
    "plt.colorbar(scatter, ax=axes[0, 0], label='θ')\n",
    "\n",
    "# Plot Hebbian connections\n",
    "axes[0, 1].scatter(x_cpu, y_cpu, c='black', s=30, alpha=0.5)\n",
    "\n",
    "# Draw connections\n",
    "max_connections = 100  # Limit for visualization\n",
    "connection_count = min(max_connections, len(hebbian.indices))\n",
    "\n",
    "# Sort connections by strength\n",
    "ln_values_np = np.array(hebbian.ln_values)\n",
    "if len(ln_values_np) > 0:\n",
    "    sorted_indices = np.argsort(ln_values_np)[-connection_count:]\n",
    "\n",
    "    for idx in sorted_indices:\n",
    "        i, j = hebbian.indices[idx]\n",
    "        strength = np.exp(hebbian.ln_values[idx])\n",
    "        \n",
    "        # Draw a line between connected tokens\n",
    "        axes[0, 1].plot([x_cpu[i], x_cpu[j]], [y_cpu[i], y_cpu[j]], \n",
    "                      alpha=min(0.8, strength), \n",
    "                      linewidth=max(0.5, 2 * strength), \n",
    "                      color='blue')\n",
    "\n",
    "axes[0, 1].set_xlabel('x')\n",
    "axes[0, 1].set_ylabel('y')\n",
    "axes[0, 1].set_title(f'Hebbian Connections (top {connection_count})')\n",
    "axes[0, 1].set_aspect('equal')\n",
    "axes[0, 1].grid(True, alpha=0.3)\n",
    "\n",
    "# Plot pitch vs. theta\n",
    "axes[1, 0].scatter(theta_cpu, pitch_cpu, c=np.arange(len(theta_cpu)), cmap='viridis', s=30, alpha=0.7)\n",
    "axes[1, 0].plot([0, TAU.item()], [0, TAU.item()], 'r--', label='Perfect Alignment')\n",
    "axes[1, 0].set_xlabel('θ')\n",
    "axes[1, 0].set_ylabel('Pitch')\n",
    "axes[1, 0].set_title('Hebbian Pitch vs. θ')\n",
    "axes[1, 0].grid(True, alpha=0.3)\n",
    "axes[1, 0].legend()\n",
    "\n",
    "# Plot pitch alignment error\n",
    "scatter = axes[1, 1].scatter(x_cpu, y_cpu, c=d_theta_cpu, cmap='coolwarm', s=50, alpha=0.7, vmin=-PI.item(), vmax=PI.item())\n",
    "axes[1, 1].set_xlabel('x')\n",
    "axes[1, 1].set_ylabel('y')\n",
    "axes[1, 1].set_title('Pitch Alignment Error')\n",
    "axes[1, 1].set_aspect('equal')\n",
    "axes[1, 1].grid(True, alpha=0.3)\n",
    "plt.colorbar(scatter, ax=axes[1, 1], label='Pitch - θ')\n",
    "\n",
    "plt.tight_layout()\n",
    "plt.savefig('notebook_outputs/hebbian_network_visualization.png', dpi=200)\n",
    "plt.show()"
   ]
  },
  {
   "cell_type": "markdown",
   "metadata": {},
   "source": [
    "## 4. Dual Vortex Field Dynamics\n",
    "\n",
    "The dual vortex field dynamics implement the core physics of our model. This includes repulsive forces, rotor dynamics, and tachyonic tunneling events."
   ]
  },
  {
   "cell_type": "code",
   "execution_count": null,
   "metadata": {},
   "outputs": [],
   "source": [
    "# Create field\n",
    "N_field = 50  # Smaller number for faster simulation\n",
    "field = DualVortexField(N_field, device=device)\n",
    "\n",
    "# Initialize tokens\n",
    "field.initialize_tokens(pattern='golden_spiral')\n",
    "\n",
    "# Run simulation\n",
    "print(\"Running field simulation...\")\n",
    "field.run_simulation(steps=50, record_every=5)\n",
    "\n",
    "# Analyze results\n",
    "print(f\"Simulation completed with {len(field.position_history)} recorded states\")\n",
    "print(f\"Tachyonic events: {len(field.tachyonic_events)}\")\n",
    "print(f\"Final energy: {field.energy_history[-1]:.6f}\")\n",
    "print(f\"Frozen tokens: {field.tokens['frozen'].sum().item()}/{N_field}\")"
   ]
  },
  {
   "cell_type": "markdown",
   "metadata": {},
   "source": [
    "### 4.1 Visualizing Field Dynamics\n",
    "\n",
    "Let's visualize the field dynamics, including token trajectories and energy evolution:"
   ]
  },
  {
   "cell_type": "code",
   "execution_count": null,
   "metadata": {},
   "outputs": [],
   "source": [
    "# Visualize energy evolution\n",
    "plt.figure(figsize=(10, 6))\n",
    "plt.plot(np.arange(len(field.energy_history)) * field.record_interval, \n",
    "        field.energy_history, 'b-', linewidth=2)\n",
    "\n",
    "# Mark tachyonic events\n",
    "if field.tachyonic_events:\n",
    "    event_steps = [event['step'] for event in field.tachyonic_events]\n",
    "    event_counts = [len(event['indices']) for event in field.tachyonic_events]\n",
    "    \n",
    "    # Get corresponding energy values\n",
    "    event_energies = []\n",
    "    for step in event_steps:\n",
    "        energy_idx = step // field.record_interval\n",
    "        if energy_idx < len(field.energy_history):\n",
    "            event_energies.append(field.energy_history[energy_idx])\n",
    "        else:\n",
    "            event_energies.append(None)\n",
    "    \n",
    "    # Filter out None values\n",
    "    valid_indices = [i for i, e in enumerate(event_energies) if e is not None]\n",
    "    if valid_indices:\n",
    "        event_steps = [event_steps[i] for i in valid_indices]\n",
    "        event_counts = [event_counts[i] for i in valid_indices]\n",
    "        event_energies = [event_energies[i] for i in valid_indices]\n",
    "        \n",
    "        # Plot events\n",
    "        plt.scatter(event_steps, event_energies, c='r', s=[count * 20 for count in event_counts], \n",
    "                   alpha=0.7, label='Tachyonic Events')\n",
    "        plt.legend()\n",
    "\n",
    "plt.xlabel('Simulation Step')\n",
    "plt.ylabel('Total Energy')\n",
    "plt.title('System Energy Evolution')\n",
    "plt.grid(True, alpha=0.3)\n",
    "plt.yscale('log')\n",
    "plt.savefig('notebook_outputs/field_energy_evolution.png', dpi=200)\n",
    "plt.show()"
   ]
  },
  {
   "cell_type": "code",
   "execution_count": null,
   "metadata": {},
   "outputs": [],
   "source": [
    "# Visualize token trajectories in 3D\n",
    "fig = plt.figure(figsize=(12, 10))\n",
    "ax = fig.add_subplot(111, projection='3d')\n",
    "\n",
    "# Sample tokens to visualize (for clarity)\n",
    "sample_size = min(10, N_field)\n",
    "indices = np.random.choice(N_field, sample_size, replace=False)\n",
    "\n",
    "# Colors\n",
    "colors = plt.cm.viridis(np.linspace(0, 1, sample_size))\n",
    "\n",
    "# Plot trajectories\n",
    "for i, idx in enumerate(indices):\n",
    "    # Extract trajectory\n",
    "    trajectory = np.array([step[idx] for step in field.position_history])\n",
    "    \n",
    "    # Extract coordinates\n",
    "    ln_r = trajectory[:, 0]\n",
    "    theta = trajectory[:, 1]\n",
    "    z = trajectory[:, 2]\n",
    "    \n",
    "    # Convert to Cartesian for visualization\n",
    "    r = np.exp(ln_r)\n",
    "    x = r * np.cos(theta)\n",
    "    y = r * np.sin(theta)\n",
    "    \n",
    "    # Plot trajectory\n",
    "    ax.plot(x, y, z, c=colors[i], linewidth=1.5, alpha=0.7)\n",
    "    \n",
    "    # Mark start and end\n",
    "    ax.scatter(x[0], y[0], z[0], c=[colors[i]], marker='o', s=30)\n",
    "    ax.scatter(x[-1], y[-1], z[-1], c=[colors[i]], marker='*', s=80)\n",
    "\n",
    "# Set labels\n",
    "ax.set_xlabel('X')\n",
    "ax.set_ylabel('Y')\n",
    "ax.set_zlabel('Z (Rotor)')\n",
    "ax.set_title('Token Trajectories in Log-Cylindrical Space')\n",
    "\n",
    "# Add golden spiral reference\n",
    "t = np.linspace(0, 4*np.pi, 1000)\n",
    "r_spiral = np.exp(t / (2*np.pi))\n",
    "x_spiral = r_spiral * np.cos(t)\n",
    "y_spiral = r_spiral * np.sin(t)\n",
    "z_spiral = np.zeros_like(t)\n",
    "\n",
    "ax.plot(x_spiral, y_spiral, z_spiral, 'k--', alpha=0.3, linewidth=1)\n",
    "\n",
    "plt.savefig('notebook_outputs/token_trajectories_3d.png', dpi=200)\n",
    "plt.show()"
   ]
  },
  {
   "cell_type": "markdown",
   "metadata": {},
   "source": [
    "### 4.2 Field State Visualization\n",
    "\n",
    "Let's visualize the current state of the field, including frozen tokens and Hebbian pitch alignment:"
   ]
  },
  {
   "cell_type": "code",
   "execution_count": null,
   "metadata": {},
   "outputs": [],
   "source": [
    "# Extract token state\n",
    "ln_r_field = field.tokens['ln_r'].cpu().numpy()\n",
    "theta_field = field.tokens['theta'].cpu().numpy()\n",
    "frozen = field.tokens['frozen'].cpu().numpy()\n",
    "\n",
    "# Convert to Cartesian\n",
    "r_field = np.exp(ln_r_field)\n",
    "x_field = r_field * np.cos(theta_field)\n",
    "y_field = r_field * np.sin(theta_field)\n",
    "\n",
    "# Create figure\n",
    "fig, axes = plt.subplots(2, 2, figsize=(14, 12))\n",
    "\n",
    "# Plot tokens in Cartesian space\n",
    "axes[0, 0].scatter(x_field, y_field, c=theta_field, cmap='hsv', s=50, alpha=0.7)\n",
    "axes[0, 0].set_xlabel('x')\n",
    "axes[0, 0].set_ylabel('y')\n",
    "axes[0, 0].set_title('Token Positions')\n",
    "axes[0, 0].set_aspect('equal')\n",
    "axes[0, 0].grid(True, alpha=0.3)\n",
    "\n",
    "# Mark frozen tokens\n",
    "if frozen.any():\n",
    "    axes[0, 0].scatter(x_field[frozen], y_field[frozen], s=100, facecolors='none', \n",
    "                      edgecolors='red', linewidths=2, label='Frozen')\n",
    "    axes[0, 0].legend()\n",
    "\n",
    "# Plot in log-polar space\n",
    "axes[0, 1].scatter(ln_r_field, theta_field, c=theta_field, cmap='hsv', s=50, alpha=0.7)\n",
    "axes[0, 1].set_xlabel('ln(r)')\n",
    "axes[0, 1].set_ylabel('θ')\n",
    "axes[0, 1].set_title('Log-Cylindrical Coordinates')\n",
    "axes[0, 1].grid(True, alpha=0.3)\n",
    "\n",
    "# Plot mass distribution\n",
    "mass = field.tokens['mass'].cpu().numpy()\n",
    "scatter = axes[1, 0].scatter(x_field, y_field, c=mass, cmap='plasma', s=50, alpha=0.7)\n",
    "axes[1, 0].set_xlabel('x')\n",
    "axes[1, 0].set_ylabel('y')\n",
    "axes[1, 0].set_title('Token Mass Distribution')\n",
    "axes[1, 0].set_aspect('equal')\n",
    "axes[1, 0].grid(True, alpha=0.3)\n",
    "plt.colorbar(scatter, ax=axes[1, 0], label='Mass')\n",
    "\n",
    "# Plot rotor phase\n",
    "z = field.tokens['z'].cpu().numpy()\n",
    "scatter = axes[1, 1].scatter(x_field, y_field, c=z, cmap='twilight', s=50, alpha=0.7, vmin=0, vmax=2*np.pi)\n",
    "axes[1, 1].set_xlabel('x')\n",
    "axes[1, 1].set_ylabel('y')\n",
    "axes[1, 1].set_title('Rotor Phase')\n",
    "axes[1, 1].set_aspect('equal')\n",
    "axes[1, 1].grid(True, alpha=0.3)\n",
    "plt.colorbar(scatter, ax=axes[1, 1], label='Z (Rotor Phase)')\n",
    "\n",
    "plt.tight_layout()\n",
    "plt.savefig('notebook_outputs/field_state_visualization.png', dpi=200)\n",
    "plt.show()"
   ]
  },
  {
   "cell_type": "markdown",
   "metadata": {},
   "source": [
    "## 5. Quantum Field Neural Network\n",
    "\n",
    "Now let's bring everything together in the full Quantum Field Neural Network. This combines log-cylindrical embeddings, Hebbian learning, and dual vortex dynamics into a complete neural network architecture."
   ]
  },
  {
   "cell_type": "code",
   "execution_count": null,
   "metadata": {},
   "outputs": [],
   "source": [
    "# Create a small QFNN model for demonstration\n",
    "vocab_size = 100\n",
    "embedding_dim = 32\n",
    "model = QuantumFieldNN(vocab_size, embedding_dim, device=device)\n",
    "\n",
    "# Display model parameters\n",
    "total_params = sum(p.numel() for p in model.parameters())\n",
    "print(f\"Model created with {vocab_size} vocabulary size and {embedding_dim} embedding dimensions\")\n",
    "print(f\"Total parameters: {total_params:,}\")"
   ]
  },
  {
   "cell_type": "markdown",
   "metadata": {},
   "source": [
    "### 5.1 Embedding Visualization\n",
    "\n",
    "Let's visualize the token embeddings in the log-cylindrical space:"
   ]
  },
  {
   "cell_type": "code",
   "execution_count": null,
   "metadata": {},
   "outputs": [],
   "source": [
    "# Visualize token embeddings\n",
    "model.visualize_embeddings(save_path=\"notebook_outputs/qfnn_embeddings.png\")"
   ]
  },
  {
   "cell_type": "markdown",
   "metadata": {},
   "source": [
    "### 5.2 Standard vs Log-Cylindrical Embedding Comparison\n",
    "\n",
    "Let's compare our log-cylindrical embeddings with standard embeddings to see the advantages:"
   ]
  },
  {
   "cell_type": "code",
   "execution_count": null,
   "metadata": {},
   "outputs": [],
   "source": [
    "# Compare with standard embeddings\n",
    "model.compare_embedding_systems(save_path=\"notebook_outputs/qfnn_embedding_comparison.png\")"
   ]
  },
  {
   "cell_type": "markdown",
   "metadata": {},
   "source": [
    "### 5.3 Testing Forward Pass and Field Evolution\n",
    "\n",
    "Let's test the forward pass of our model, which includes field evolution:"
   ]
  },
  {
   "cell_type": "code",
   "metadata": {},
   "outputs": [],
   "source": "# Create a small test batch\nbatch_size = 2\nseq_len = 8\ninput_ids = torch.randint(0, vocab_size, (batch_size, seq_len), device=device)\n\nprint(f\"Input shape: {input_ids.shape}\")\n\n# Run forward pass\nstart_time = time.time()\nlogits = model(input_ids, evolution_steps=3)\nend_time = time.time()\n\nprint(f\"Forward pass completed in {end_time - start_time:.4f} seconds\")\nprint(f\"Output logits shape: {logits.shape}\")\n\n# Get probabilities\nprobs = torch.nn.functional.softmax(logits, dim=-1)\n\n# Calculate entropy of the output distribution\nentropy = -torch.sum(probs * torch.log(probs + 1e-10), dim=-1)\nprint(f\"Output entropy range: [{entropy.min().item():.4f}, {entropy.max().item():.4f}]\")\n\n# Move tensors to CPU before display\nlogits_cpu = logits.detach().cpu().numpy()\nentropy_cpu = entropy.detach().cpu().numpy()\nprint(f\"Sample logits (first 5 values): {logits_cpu[0, 0, :5]}\")\nprint(f\"Sample entropy: {entropy_cpu[0, 0]:.4f}\")"
  },
  {
   "cell_type": "markdown",
   "metadata": {},
   "source": [
    "### 5.4 Ablation Study: Field Evolution vs. Standard Processing\n",
    "\n",
    "Let's compare the effect of quantum field evolution against standard linear processing:"
   ]
  },
  {
   "cell_type": "code",
   "execution_count": null,
   "metadata": {},
   "outputs": [],
   "source": [
    "# Perform ablation study\n",
    "model.ablation_study(input_ids, save_path=\"notebook_outputs/qfnn_ablation_study.png\")"
   ]
  },
  {
   "cell_type": "markdown",
   "metadata": {},
   "source": [
    "### 5.5 Text Generation\n",
    "\n",
    "Finally, let's demonstrate the text generation capabilities of our model:"
   ]
  },
  {
   "cell_type": "code",
   "metadata": {},
   "outputs": [],
   "source": "# Create a prompt\nprompt_ids = torch.randint(0, vocab_size, (1, 5), device=device)\nprint(f\"Prompt shape: {prompt_ids.shape}\")\n\n# Generate text\nstart_time = time.time()\ngenerated_ids = model.generate(\n    prompt_ids, \n    max_length=20, \n    temperature=0.8, \n    top_p=0.9, \n    evolution_steps=3\n)\nend_time = time.time()\n\nprint(f\"Generation completed in {end_time - start_time:.4f} seconds\")\nprint(f\"Generated sequence shape: {generated_ids.shape}\")\n\n# Make sure we're using CPU tensors for display\nprompt_cpu = prompt_ids.cpu().numpy()\ngenerated_cpu = generated_ids.cpu().numpy()\n\n# In a real application, we would decode the token IDs to text here\nprint(f\"Prompt token IDs: {prompt_cpu[0]}\")\nprint(f\"Generated token IDs: {generated_cpu[0]}\")\n\n# Visualize the token sequence\nplt.figure(figsize=(12, 3))\nplt.plot(generated_cpu[0], 'o-', color='blue')\nplt.axvspan(0, len(prompt_cpu[0])-1, color='lightgray', alpha=0.3, label='Prompt')\nplt.xlabel('Position')\nplt.ylabel('Token ID')\nplt.title('Token Sequence Generation')\nplt.grid(True, alpha=0.3)\nplt.legend()\nplt.savefig('notebook_outputs/token_generation.png', dpi=200)\nplt.show()"
  },
  {
   "cell_type": "markdown",
   "metadata": {},
   "source": [
    "## 6. Performance Analysis\n",
    "\n",
    "Let's analyze the performance of our model components, focusing on the computational complexity and GPU acceleration:"
   ]
  },
  {
   "cell_type": "code",
   "execution_count": null,
   "metadata": {},
   "outputs": [],
   "source": [
    "# Performance analysis for different N values\n",
    "N_values = [10, 50, 100, 200, 500]\n",
    "log_coord_times = []\n",
    "hebbian_times = []\n",
    "field_times = []\n",
    "\n",
    "for N in N_values:\n",
    "    print(f\"\\nTesting with N = {N}\")\n",
    "    \n",
    "    # Test log-cylindrical operations\n",
    "    start_time = time.time()\n",
    "    ln_r_test, theta_test = coords.generate_golden_spiral(N)\n",
    "    x_test, y_test = coords.ln_r_theta_to_cartesian(ln_r_test, theta_test)\n",
    "    ln_r_back, theta_back = coords.cartesian_to_ln_r_theta(x_test, y_test)\n",
    "    end_time = time.time()\n",
    "    log_coord_time = end_time - start_time\n",
    "    log_coord_times.append(log_coord_time)\n",
    "    print(f\"  Log-cylindrical operations: {log_coord_time:.4f} seconds\")\n",
    "    \n",
    "    # Test Hebbian operations\n",
    "    hebbian_test = SparseLogHebbian(N, device=device)\n",
    "    start_time = time.time()\n",
    "    hebbian_test.log_update(ln_r_test, theta_test, coords, 0.1)\n",
    "    pitch_test = hebbian_test.compute_hebbian_pitch(theta_test)\n",
    "    end_time = time.time()\n",
    "    hebbian_time = end_time - start_time\n",
    "    hebbian_times.append(hebbian_time)\n",
    "    print(f\"  Hebbian operations: {hebbian_time:.4f} seconds\")\n",
    "    \n",
    "    # Test field operations (just one step)\n",
    "    field_test = DualVortexField(N, device=device)\n",
    "    field_test.initialize_tokens(pattern='golden_spiral')\n",
    "    start_time = time.time()\n",
    "    field_test.integrate_step()\n",
    "    end_time = time.time()\n",
    "    field_time = end_time - start_time\n",
    "    field_times.append(field_time)\n",
    "    print(f\"  Field integration step: {field_time:.4f} seconds\")\n",
    "\n",
    "# Plot performance scaling\n",
    "plt.figure(figsize=(12, 6))\n",
    "plt.loglog(N_values, log_coord_times, 'b-o', label='Log-Cylindrical Ops', linewidth=2)\n",
    "plt.loglog(N_values, hebbian_times, 'r-o', label='Hebbian Ops', linewidth=2)\n",
    "plt.loglog(N_values, field_times, 'g-o', label='Field Integration', linewidth=2)\n",
    "\n",
    "# Add reference scaling lines\n",
    "max_time = max(max(log_coord_times), max(hebbian_times), max(field_times))\n",
    "min_time = min(min(log_coord_times), min(hebbian_times), min(field_times))\n",
    "scale = max_time / (N_values[-1] ** 2) * 10\n",
    "\n",
    "n_squared = [scale * (n ** 2) for n in N_values]\n",
    "n_log_n = [scale * (n * np.log(n)) for n in N_values]\n",
    "n_linear = [scale * n for n in N_values]\n",
    "\n",
    "plt.loglog(N_values, n_squared, 'k--', label='O(N²)', alpha=0.5)\n",
    "plt.loglog(N_values, n_log_n, 'k:', label='O(N·log(N))', alpha=0.5)\n",
    "plt.loglog(N_values, n_linear, 'k-.', label='O(N)', alpha=0.5)\n",
    "\n",
    "plt.xlabel('Number of Tokens (N)')\n",
    "plt.ylabel('Time (seconds)')\n",
    "plt.title('Performance Scaling Analysis')\n",
    "plt.grid(True, alpha=0.3)\n",
    "plt.legend()\n",
    "plt.savefig('notebook_outputs/performance_scaling.png', dpi=200)\n",
    "plt.show()"
   ]
  },
  {
   "cell_type": "markdown",
   "metadata": {},
   "source": "## 7. Infinite Context Length Analysis\n\nOne of the most significant advantages of our log-cylindrical quantum field approach is its potential for handling virtually infinite context lengths. Unlike traditional transformer models that scale quadratically with sequence length (both in computation and memory), our approach can theoretically scale much more efficiently.\n\nLet's analyze the scaling behavior and information propagation to demonstrate this capability:",
   "outputs": []
  },
  {
   "cell_type": "code",
   "metadata": {},
   "outputs": [],
   "source": "# Run the infinite context analysis with increasing sequence lengths\n# Using smaller lengths for notebook demonstration\nsequence_lengths = [10, 20, 50, 100]\n\n# Mathematical formula for expected computational complexity:\n# T(n) = O(n·log n) - for field evolution time complexity\n# M(n) = O(n) - for memory usage\n# S(n) = O(k·n) - for Hebbian connection storage where k << n\n\n# Document the theoretical foundation:\nprint(\"Theoretical Foundation for Infinite Context Analysis:\")\nprint(\"1. Log-cylindrical space enables efficient representation across exponential scales\")\nprint(\"2. Information propagation via field dynamics with tachyonic tunneling\")\nprint(\"3. Sparse Hebbian connections (O(n) storage) vs. full attention (O(n²) storage)\")\nprint(\"4. Field evolution time complexity: O(n·log n) vs. transformer O(n²)\")\nprint(\"5. Analytical proof: Signal propagates in log(n) steps through tachyonic events\")\nprint(\"\\nRunning analysis with sequence lengths:\", sequence_lengths)\n\n# Run the analysis\nmetrics = model.infinite_context_analysis(\n    sequence_lengths=sequence_lengths,\n    trials=2,  # Low for demonstration\n    save_path=\"notebook_outputs/infinite_context_analysis.png\"\n)"
  },
  {
   "cell_type": "code",
   "source": "print(f\"Metrics gathered across {len(sequence_lengths)} sequence lengths:\")\nprint(f\"- Average processing time (seconds): {metrics['processing_times']}\")\nprint(f\"- Memory usage (MB): {metrics['memory_usage']}\")\nprint(f\"- Hebbian connections: {metrics['hebbian_connections']}\")\nprint(f\"- Field energy levels: {metrics['energy_levels']}\")\n\n# Plot the scaling behavior\nplt.figure(figsize=(15, 10))\n\nplt.subplot(2, 2, 1)\nplt.plot(sequence_lengths, metrics['processing_times'], 'o-', color='blue')\nplt.title('Processing Time vs Sequence Length')\nplt.xlabel('Sequence Length')\nplt.ylabel('Time (seconds)')\nplt.grid(True)\n# Add the theoretical O(N log N) curve for comparison\nref_time = metrics['processing_times'][0]\nref_n = sequence_lengths[0]\nplt.plot(sequence_lengths, [n * np.log(n) * ref_time / (ref_n * np.log(ref_n)) for n in sequence_lengths], '--', color='red', label='O(N log N)')\nplt.legend()\n\nplt.subplot(2, 2, 2)\nplt.plot(sequence_lengths, metrics['memory_usage'], 'o-', color='green')\nplt.title('Memory Usage vs Sequence Length')\nplt.xlabel('Sequence Length')\nplt.ylabel('Memory (MB)')\nplt.grid(True)\n# Add the theoretical O(N) curve for comparison\nref_mem = metrics['memory_usage'][0]\nplt.plot(sequence_lengths, [n * ref_mem / ref_n for n in sequence_lengths], '--', color='red', label='O(N)')\nplt.legend()\n\nplt.subplot(2, 2, 3)\nplt.plot(sequence_lengths, metrics['hebbian_connections'], 'o-', color='purple')\nplt.title('Hebbian Connections vs Sequence Length')\nplt.xlabel('Sequence Length')\nplt.ylabel('Number of Connections')\nplt.grid(True)\n# Add reference scaling\nref_conn = metrics['hebbian_connections'][0]\nplt.plot(sequence_lengths, [n * ref_conn / ref_n for n in sequence_lengths], '--', color='red', label='O(N)')\nplt.legend()\n\nplt.subplot(2, 2, 4)\nplt.plot(sequence_lengths, metrics['energy_levels'], 'o-', color='orange')\nplt.title('Field Energy vs Sequence Length')\nplt.xlabel('Sequence Length')\nplt.ylabel('Energy')\nplt.grid(True)\n\nplt.tight_layout()\nplt.savefig('notebook_outputs/scaling_behavior.png', dpi=300)\nplt.show()",
   "metadata": {},
   "outputs": []
  },
  {
   "cell_type": "markdown",
   "source": "### 7.1 Mathematical Proof of Infinite Context Capacity\n\nTo rigorously demonstrate the infinite context capability of our model, we'll visualize the theoretical proof that explains why our log-cylindrical approach can handle arbitrary sequence lengths with O(N log N) time complexity and constant memory per token.",
   "metadata": {}
  },
  {
   "cell_type": "code",
   "source": "# Generate the mathematical proof visualization\nprint(\"Generating mathematical proof visualization for infinite context capability...\")\n\n# Mathematical proof requires understanding the key components:\n# 1. Log-cylindrical coordinates enable exponential compression: O(log n) space\n# 2. Tachyonic tunneling provides O(log n) propagation time\n# 3. Sparse Hebbian matrices achieve O(k·n) storage complexity\n\nprint(\"Mathematical foundation:\")\nprint(\"- Theorem: The quantum field neural network can process sequences of arbitrary length n\")\nprint(\"           with O(n·log n) time complexity and O(n) memory usage.\")\nprint(\"- Proof components: Logarithmic compression, tachyonic tunneling, sparse connectivity\")\nprint(\"- Visualization will show: theoretical bounds and empirical validation\")\n\n# Run the proof visualization\nmodel.infinite_context_theoretical_proof(save_path=\"notebook_outputs/infinite_context_proof.png\")",
   "metadata": {},
   "outputs": []
  },
  {
   "cell_type": "markdown",
   "source": "### 7.2 Long-Range Information Propagation Demonstration\n\nOne of the key advantages of our log-cylindrical quantum field approach is the ability to efficiently propagate information across arbitrary distances in the sequence. Let's demonstrate this with a long-range dependency experiment:",
   "metadata": {}
  },
  {
   "cell_type": "code",
   "source": "def demonstrate_long_range_info_propagation(model, sequence_length=100, save_path=None):\n    \"\"\"\n    Demonstrate how information propagates across long ranges in the log-cylindrical field.\n    \n    Mathematical foundation:\n    - Signal propagation in log space: d_prop = O(log n)\n    - Information transfer between tokens: I(t_i; t_j) ≈ exp(-d_ij/λ_cutoff)\n    - Tachyonic tunneling enables long-range jumps with Lévy distribution α = φ\n    \n    Args:\n        model: The QuantumFieldNN model\n        sequence_length: Length of test sequence\n        save_path: Path to save visualization\n    \"\"\"\n    print(f\"Demonstrating long-range information propagation with sequence length {sequence_length}...\")\n    print(\"Mathematical basis: Information propagates in O(log n) steps through field dynamics\")\n    print(\"- Long-range dependencies via field rotations and tachyonic tunneling\")\n    print(\"- Signal influence measured by activation difference at target position\")\n    print(\"- Phase coherence quantifies information propagation quality\")\n    \n    # Create a test sequence with a specific pattern:\n    # - Start token (ID = 1)\n    # - Random tokens in the middle\n    # - Signal token at position 25% (ID = 2)\n    # - Random tokens\n    # - Target position at 75% (We'll measure influence here)\n    \n    # Create random sequence\n    torch.manual_seed(42)  # For reproducibility\n    input_ids = torch.randint(3, model.vocab_size, (1, sequence_length), device=model.device)\n    \n    # Set start token\n    input_ids[0, 0] = 1\n    \n    # Set signal token at 25% position\n    signal_pos = sequence_length // 4\n    input_ids[0, signal_pos] = 2\n    \n    # Target position at 75%\n    target_pos = 3 * sequence_length // 4\n    \n    # Create a variant without the signal token for comparison\n    alt_input_ids = input_ids.clone()\n    alt_input_ids[0, signal_pos] = 3  # Different token\n    \n    # Run the model with different numbers of evolution steps\n    evolution_steps = [0, 1, 3, 5, 10]\n    \n    # Store results\n    signal_influence = []\n    field_coherence = []\n    \n    # Store tensor state history for visualization\n    tensor_states = []\n    \n    for steps in evolution_steps:\n        # With signal token\n        with torch.no_grad():\n            x1 = model.token_embedding(input_ids)\n            evolved_x1 = model.evolve_field(x1, steps=steps)\n            logits1 = model.output_projection(evolved_x1)\n            \n            # Without signal token\n            x2 = model.token_embedding(alt_input_ids)\n            evolved_x2 = model.evolve_field(x2, steps=steps)\n            logits2 = model.output_projection(evolved_x2)\n            \n            # Measure influence at target position using L2 norm\n            # ||logits_signal - logits_no_signal||_2 at target position\n            diff = torch.norm(logits1[0, target_pos] - logits2[0, target_pos]).item()\n            signal_influence.append(diff)\n            \n            # Extract log-cylindrical coordinates for the field\n            ln_r1, theta1 = model.cartesian_to_log_cylindrical(evolved_x1)\n            ln_r2, theta2 = model.cartesian_to_log_cylindrical(evolved_x2)\n            \n            # Store tensor state for visualization (move to CPU)\n            tensor_states.append({\n                'steps': steps,\n                'ln_r1': ln_r1[0].detach().cpu().numpy(),\n                'theta1': theta1[0].detach().cpu().numpy(),\n                'ln_r2': ln_r2[0].detach().cpu().numpy(),\n                'theta2': theta2[0].detach().cpu().numpy(),\n            })\n            \n            # Measure field coherence (alignment of phases) using mean absolute difference\n            # Coherence = mean(|θ_signal - θ_no_signal|)\n            phase_diff = torch.mean(torch.abs(theta1 - theta2)).item()\n            field_coherence.append(phase_diff)\n    \n    # Plot results\n    plt.figure(figsize=(12, 10))\n    \n    # Plot signal influence\n    plt.subplot(2, 1, 1)\n    plt.plot(evolution_steps, signal_influence, 'bo-', linewidth=2)\n    plt.xlabel('Field Evolution Steps')\n    plt.ylabel('Signal Influence at Target')\n    plt.title(f'Long-Range Information Propagation (Distance: {target_pos - signal_pos} tokens)')\n    plt.grid(True, alpha=0.3)\n    \n    # Add mathematical formula for signal propagation\n    formula = r\"$I(t_{target}, t_{signal}) \\propto e^{-d_{prop}/\\lambda_{cutoff}}$\"\n    plt.text(0.05, 0.9, formula, transform=plt.gca().transAxes, fontsize=12, \n             bbox=dict(facecolor='white', alpha=0.7, edgecolor='black'))\n    \n    # Annotate distances\n    plt.annotate(f'Signal at position: {signal_pos}', xy=(evolution_steps[-1], signal_influence[-1]),\n                xytext=(evolution_steps[-1]-3, signal_influence[-1]*1.2),\n                arrowprops=dict(facecolor='black', shrink=0.05, width=1.5, headwidth=8),\n                fontsize=10)\n    \n    # Plot field coherence\n    plt.subplot(2, 1, 2)\n    plt.plot(evolution_steps, field_coherence, 'ro-', linewidth=2)\n    plt.xlabel('Field Evolution Steps')\n    plt.ylabel('Field Coherence (Phase Difference)')\n    plt.title('Field Coherence During Information Propagation')\n    plt.grid(True, alpha=0.3)\n    \n    # Add mathematical formula for field coherence decay\n    coherence_formula = r\"$\\text{Coherence}(t) \\approx e^{-t \\cdot \\ln(n) / \\phi}$\"\n    plt.text(0.05, 0.9, coherence_formula, transform=plt.gca().transAxes, fontsize=12,\n             bbox=dict(facecolor='white', alpha=0.7, edgecolor='black'))\n    \n    # Add theoretical information propagation speed\n    if len(evolution_steps) > 1:\n        # Theory: Information propagates with speed scaling as ln(N)\n        theory_steps = np.linspace(evolution_steps[0], evolution_steps[-1], 100)\n        theory_coherence = [np.exp(-step * np.log(sequence_length) / model.phi.item()) * field_coherence[0] for step in theory_steps]\n        plt.plot(theory_steps, theory_coherence, 'g--', linewidth=1.5, label='Theoretical Bound: O(log N)')\n        plt.legend()\n    \n    plt.tight_layout()\n    \n    if save_path:\n        plt.savefig(save_path, dpi=200, bbox_inches='tight')\n        print(f\"Long-range information propagation visualization saved to {save_path}\")\n    \n    # Create tensor evolution visualization\n    plt.figure(figsize=(15, 10))\n    \n    # Create a grid for the different evolution steps\n    n_steps = len(evolution_steps)\n    for i, step_data in enumerate(tensor_states):\n        # Plot phase differences at this evolution step\n        plt.subplot(2, n_steps, i+1)\n        \n        # Compute phase differences\n        phase_diff = np.abs(step_data['theta1'] - step_data['theta2'])\n        \n        # Plot as matrix\n        plt.imshow(phase_diff.reshape(-1, 1), aspect='auto', cmap='viridis', \n                  extent=[0, 1, 0, sequence_length])\n        plt.colorbar(label='Phase Difference')\n        plt.title(f'Steps: {step_data[\"steps\"]}')\n        plt.xlabel('Tensor Width')\n        plt.ylabel('Sequence Position')\n        \n        # Mark signal position\n        plt.axhline(y=signal_pos, color='r', linestyle='--', alpha=0.5)\n        \n        # Mark target position\n        plt.axhline(y=target_pos, color='g', linestyle='--', alpha=0.5)\n        \n        # Plot radial differences at this evolution step\n        plt.subplot(2, n_steps, i+1+n_steps)\n        \n        # Compute ln_r differences\n        lnr_diff = np.abs(step_data['ln_r1'] - step_data['ln_r2'])\n        \n        # Plot as matrix\n        plt.imshow(lnr_diff.reshape(-1, 1), aspect='auto', cmap='plasma', \n                  extent=[0, 1, 0, sequence_length])\n        plt.colorbar(label='ln(r) Difference')\n        plt.title(f'Steps: {step_data[\"steps\"]}')\n        plt.xlabel('Tensor Width')\n        plt.ylabel('Sequence Position')\n        \n        # Mark signal position\n        plt.axhline(y=signal_pos, color='r', linestyle='--', alpha=0.5)\n        \n        # Mark target position\n        plt.axhline(y=target_pos, color='g', linestyle='--', alpha=0.5)\n    \n    plt.tight_layout()\n    \n    # Save tensor evolution visualization\n    if save_path:\n        tensor_viz_path = save_path.replace('.png', '_tensor_evolution.png')\n        plt.savefig(tensor_viz_path, dpi=200, bbox_inches='tight')\n        print(f\"Tensor evolution visualization saved to {tensor_viz_path}\")\n    \n    plt.show()\n    \n    # Return the results\n    return {\n        'evolution_steps': evolution_steps,\n        'signal_influence': signal_influence,\n        'field_coherence': field_coherence,\n        'sequence_length': sequence_length,\n        'signal_position': signal_pos,\n        'target_position': target_pos,\n        'tensor_states': tensor_states\n    }\n\n# Run the demonstration\nprint(\"Analyzing long-range information propagation in log-cylindrical space...\")\nprint(\"- Mathematical proof: Signal travels distance d in O(log d) steps\")\nprint(\"- Demonstrating with signal at 25% and measuring influence at 75% of sequence\")\nprint(\"- Testing evolution steps: 0, 1, 3, 5, 10\")\n\nlong_range_results = demonstrate_long_range_info_propagation(\n    model, \n    sequence_length=80,  # Smaller for demonstration\n    save_path=\"notebook_outputs/long_range_propagation.png\"\n)",
   "metadata": {},
   "outputs": []
  },
  {
   "cell_type": "markdown",
   "source": "### 7.3 Language Modeling Application with NLTK\n\nTo demonstrate the practical application of our model, let's apply it to a language modeling task using a corpus from NLTK. This will show how our log-cylindrical architecture handles real text data:",
   "metadata": {}
  },
  {
   "cell_type": "code",
   "source": "# Install and import NLTK\n!pip install nltk\nimport nltk\nnltk.download('punkt')\nnltk.download('gutenberg')\nfrom nltk.corpus import gutenberg\nfrom nltk.tokenize import word_tokenize\nfrom collections import Counter\nimport random\n\ndef demonstrate_language_modeling(model, corpus_name='austen-emma.txt', save_path=None):\n    \"\"\"\n    Demonstrate the language modeling capabilities using NLTK corpus\n    \n    Mathematical foundation:\n    - Language modeling perplexity: PPL = exp(H(p,q)) = exp(-Σ p(x)log q(x))\n    - Field evolution improves prediction quality: q_evolved(x) > q_base(x)\n    - Learning converges as: L(t) ≈ L₀·exp(-t/φ)\n    \n    Args:\n        model: The QuantumFieldNN model\n        corpus_name: Name of the corpus in NLTK gutenberg\n        save_path: Path to save visualization\n    \"\"\"\n    print(f\"Demonstrating language modeling with corpus: {corpus_name}\")\n    print(\"Mathematical basis: Field evolution improves prediction quality\")\n    print(\"- Perplexity should decrease exponentially with evolution steps\")\n    print(\"- Evolution allows long-range context integration through field dynamics\")\n    print(\"- Theoretical convergence rate: PPL(t) ≈ PPL₀·exp(-t/φ)\")\n    \n    # Get corpus\n    corpus_text = gutenberg.raw(corpus_name)\n    corpus_words = word_tokenize(corpus_text.lower())\n    print(f\"Corpus size: {len(corpus_words)} words\")\n    \n    # Create vocabulary (top words + special tokens)\n    counter = Counter(corpus_words)\n    top_words = [word for word, _ in counter.most_common(model.vocab_size - 3)]\n    word2idx = {'<pad>': 0, '<unk>': 1, '<eos>': 2}\n    word2idx.update({word: idx+3 for idx, word in enumerate(top_words)})\n    idx2word = {idx: word for word, idx in word2idx.items()}\n    \n    # Tokenize sentences\n    sentences = nltk.sent_tokenize(corpus_text.lower())\n    print(f\"Number of sentences: {len(sentences)}\")\n    \n    # Convert to token ids\n    token_sequences = []\n    for sentence in sentences[:100]:  # Limit for demonstration\n        words = word_tokenize(sentence)\n        # Convert to token ids, with <unk> for OOV\n        token_ids = [word2idx.get(word, word2idx['<unk>']) for word in words]\n        # Add EOS token\n        token_ids.append(word2idx['<eos>'])\n        token_sequences.append(token_ids)\n    \n    # Batch and pad sequences\n    max_len = min(50, max(len(s) for s in token_sequences))  # Limit sequence length\n    padded_sequences = []\n    for seq in token_sequences:\n        if len(seq) > max_len:\n            padded_sequences.append(seq[:max_len])\n        else:\n            padded_sequences.append(seq + [word2idx['<pad>']] * (max_len - len(seq)))\n    \n    # Convert to tensor\n    sequences_tensor = torch.tensor(padded_sequences, device=model.device)\n    print(f\"Sequences tensor shape: {sequences_tensor.shape}\")\n    \n    # Select a random sequence for generation\n    seq_idx = random.randint(0, len(padded_sequences)-1)\n    prompt_length = min(10, len(padded_sequences[seq_idx]))\n    prompt_ids = sequences_tensor[seq_idx:seq_idx+1, :prompt_length]\n    \n    # Original tokens\n    prompt_words = [idx2word[idx.item()] for idx in prompt_ids[0]]\n    print(f\"Prompt: {' '.join(prompt_words)}\")\n    \n    # Generate continuation\n    with torch.no_grad():\n        generated_ids = model.generate(\n            prompt_ids, \n            max_length=30, \n            temperature=0.8,\n            evolution_steps=5\n        )\n    \n    # Convert back to words\n    generated_words = [idx2word.get(idx.item(), '<unk>') for idx in generated_ids[0]]\n    print(f\"Generated: {' '.join(generated_words)}\")\n    \n    # Evaluate on test sequences\n    test_sequences = sequences_tensor[:20]  # Use a small subset for demonstration\n    \n    # Run model with different evolution steps\n    evolution_steps_list = [0, 1, 3, 5, 10]\n    perplexities = []\n    \n    # Store token evolution matrices for visualization\n    token_evolution_matrices = []\n    \n    for steps in evolution_steps_list:\n        total_loss = 0.0\n        total_tokens = 0\n        \n        # Save one set of logits for visualization\n        sample_logits = None\n        \n        for i in range(test_sequences.shape[0]):\n            # Get sequence\n            sequence = test_sequences[i:i+1]\n            \n            # Prepare inputs and targets\n            inputs = sequence[:, :-1]  # all but last token\n            targets = sequence[:, 1:]   # all but first token\n            \n            # Mask out padding\n            mask = (targets != word2idx['<pad>']).float()\n            \n            # Forward pass\n            logits = model(inputs, evolution_steps=steps)\n            \n            # Save sample logits for visualization (first sequence)\n            if i == 0 and sample_logits is None:\n                sample_logits = logits.detach().cpu().numpy()\n                \n                # Create a matrix showing token predictions\n                probs = torch.nn.functional.softmax(logits, dim=-1)\n                token_evolution_matrices.append({\n                    'steps': steps,\n                    'probs': probs[0].detach().cpu().numpy(),  # First batch item\n                    'targets': targets[0].cpu().numpy()\n                })\n            \n            # Compute loss\n            loss_fn = torch.nn.CrossEntropyLoss(reduction='none')\n            losses = loss_fn(logits.view(-1, model.vocab_size), targets.view(-1))\n            losses = losses.view_as(targets) * mask\n            \n            # Sum losses\n            total_loss += losses.sum().item()\n            total_tokens += mask.sum().item()\n        \n        # Compute perplexity\n        avg_loss = total_loss / total_tokens\n        perplexity = torch.exp(torch.tensor(avg_loss)).item()\n        perplexities.append(perplexity)\n        \n        print(f\"Evolution steps: {steps}, Perplexity: {perplexity:.4f}\")\n    \n    # Plot perplexity results\n    plt.figure(figsize=(10, 6))\n    plt.plot(evolution_steps_list, perplexities, 'bo-', linewidth=2)\n    plt.xlabel('Field Evolution Steps')\n    plt.ylabel('Perplexity (lower is better)')\n    plt.title('Language Modeling Performance vs. Field Evolution')\n    plt.grid(True, alpha=0.3)\n    \n    # Add mathematical formula\n    formula = r\"$\\text{PPL} = \\exp\\left(-\\sum_{x} p(x) \\log q(x)\\right)$\"\n    plt.text(0.05, 0.9, formula, transform=plt.gca().transAxes, fontsize=12,\n             bbox=dict(facecolor='white', alpha=0.7, edgecolor='black'))\n    \n    # Add theoretical curve\n    x = np.array(evolution_steps_list)\n    y_theory = [perplexities[0] * np.exp(-steps / model.phi.item()) for steps in x]\n    plt.plot(x, y_theory, 'r--', linewidth=1.5, label='Theoretical: exp(-t/φ)')\n    plt.legend()\n    \n    if save_path:\n        plt.savefig(save_path, dpi=200, bbox_inches='tight')\n        print(f\"Language modeling results saved to {save_path}\")\n    \n    # Create token evolution visualization\n    plt.figure(figsize=(15, 10))\n    \n    # Create a grid for the different evolution steps\n    n_steps = len(evolution_steps_list)\n    for i, matrix_data in enumerate(token_evolution_matrices):\n        plt.subplot(1, n_steps, i+1)\n        \n        # Get data\n        probs = matrix_data['probs']\n        targets = matrix_data['targets']\n        steps = matrix_data['steps']\n        \n        # Create heatmap of token probabilities\n        # For visualization, just show a subset of positions and tokens\n        max_pos = min(15, probs.shape[0])\n        max_tokens = min(50, probs.shape[1])\n        \n        # Get most relevant tokens for display\n        token_sum = np.sum(probs[:max_pos, :], axis=0)\n        top_token_indices = np.argsort(token_sum)[-max_tokens:]\n        \n        # Prepare data for heatmap\n        heatmap_data = probs[:max_pos, top_token_indices]\n        \n        # Plot heatmap\n        plt.imshow(heatmap_data, cmap='viridis', aspect='auto')\n        plt.colorbar(label='Token Probability')\n        plt.title(f'Steps: {steps}')\n        plt.xlabel('Token ID (top tokens)')\n        plt.ylabel('Sequence Position')\n        \n        # Mark target tokens in each row\n        for pos in range(min(max_pos, len(targets))):\n            target = targets[pos]\n            if target in top_token_indices:\n                target_idx = np.where(top_token_indices == target)[0][0]\n                plt.plot(target_idx, pos, 'rx', markersize=10)\n    \n    plt.tight_layout()\n    \n    # Save token evolution visualization\n    if save_path:\n        token_viz_path = save_path.replace('.png', '_token_evolution.png')\n        plt.savefig(token_viz_path, dpi=200, bbox_inches='tight')\n        print(f\"Token evolution visualization saved to {token_viz_path}\")\n    \n    plt.show()\n    \n    return {\n        'evolution_steps': evolution_steps_list,\n        'perplexities': perplexities,\n        'prompt': prompt_words,\n        'generated': generated_words,\n        'token_evolution': token_evolution_matrices\n    }\n\n# Run the demonstration\nprint(\"Demonstrating language modeling application with NLTK corpus...\")\nprint(\"- Mathematical basis: Field evolution enables better language modeling\")\nprint(\"- Testing how perplexity decreases with evolution steps\")\nprint(\"- Generating text from Jane Austen's Emma\")\n\nlanguage_results = demonstrate_language_modeling(\n    model,\n    corpus_name='austen-emma.txt', \n    save_path=\"notebook_outputs/language_modeling.png\"\n)",
   "metadata": {},
   "outputs": []
  },
  {
   "cell_type": "markdown",
   "source": "# Phase transition visualization: Show how tokens transition from computational to crystallized state\ndef demonstrate_phase_transition(n_tokens=50, steps=100):\n    \"\"\"Demonstrate phase transition from computational to crystallized state.\"\"\"\n    print(\"Demonstrating quantum phase transition...\")\n    \n    # Initialize field with tokens\n    field = DualVortexField(n_tokens, device=device)\n    field.initialize_tokens(pattern='fibonacci_spiral')\n    \n    # Record energy and crystallization\n    energy_history = []\n    crystallization_rate = []\n    entropy_history = []\n    tensor_states = []\n    \n    # Run simulation with gradually decreasing temperature\n    temps = np.linspace(1.0, 0.1, steps)\n    \n    for i, temp in enumerate(temps):\n        # Set temperature parameter (thermal energy)\n        field.temperature = temp\n        \n        # Update field\n        field.step()\n        \n        # Calculate energy\n        energy = field.calculate_system_energy()\n        energy_history.append(energy.item())\n        \n        # Calculate crystallization rate (tokens that have frozen in place)\n        frozen_count = field.tokens['frozen'].sum().item()\n        crystallization_rate.append(frozen_count / n_tokens)\n        \n        # Calculate field entropy\n        positions = torch.stack([\n            torch.exp(field.tokens['ln_r']) * torch.cos(field.tokens['theta']),\n            torch.exp(field.tokens['ln_r']) * torch.sin(field.tokens['theta'])\n        ], dim=1)\n        \n        # Create histogram (move to CPU first)\n        pos_np = positions.detach().cpu().numpy()\n        hist, _, _ = np.histogram2d(pos_np[:, 0], pos_np[:, 1], bins=10, \n                                   range=[[-5, 5], [-5, 5]], density=True)\n        \n        # Calculate entropy from histogram\n        hist_flat = hist.flatten()\n        hist_flat = hist_flat[hist_flat > 0]  # Avoid log(0)\n        entropy = -np.sum(hist_flat * np.log(hist_flat))\n        entropy_history.append(entropy)\n        \n        # Store tensor state for visualization\n        if i % 10 == 0:\n            tensor_states.append({\n                'step': i,\n                'temp': temp,\n                'ln_r': field.tokens['ln_r'].detach().cpu().numpy(),\n                'theta': field.tokens['theta'].detach().cpu().numpy(),\n                'frozen': field.tokens['frozen'].detach().cpu().numpy(),\n                'energy': energy.item(),\n                'entropy': entropy\n            })\n    \n    # Visualize phase transition\n    plt.figure(figsize=(15, 12))\n    \n    # Plot energy and crystallization vs temperature\n    plt.subplot(2, 2, 1)\n    plt.plot(temps, energy_history, 'b-', linewidth=2)\n    plt.xlabel('Temperature')\n    plt.ylabel('System Energy')\n    plt.title('Energy vs Temperature')\n    plt.grid(True)\n    \n    plt.subplot(2, 2, 2)\n    plt.plot(temps, crystallization_rate, 'r-', linewidth=2)\n    plt.xlabel('Temperature')\n    plt.ylabel('Crystallization Rate')\n    plt.title('Order Parameter vs Temperature')\n    plt.grid(True)\n    \n    plt.subplot(2, 2, 3)\n    plt.plot(temps, entropy_history, 'g-', linewidth=2)\n    plt.xlabel('Temperature')\n    plt.ylabel('System Entropy')\n    plt.title('Entropy vs Temperature')\n    plt.grid(True)\n    \n    # Mark critical temperature (KT transition point)\n    kt_temp = temps[np.argmax(np.gradient(np.gradient(crystallization_rate)))]\n    plt.axvline(x=kt_temp, color='k', linestyle='--', alpha=0.7)\n    plt.text(kt_temp+0.05, 0.5, f'Critical Temp: {kt_temp:.2f}', \n             rotation=90, verticalalignment='center')\n    \n    # Create token state matrix visualization\n    plt.subplot(2, 2, 4)\n    \n    # Display matrix evolution at different temperatures\n    num_states = len(tensor_states)\n    state_indices = [0, num_states//3, 2*num_states//3, -1]  # Beginning, 1/3, 2/3, End\n    \n    matrix_data = np.zeros((n_tokens, len(state_indices)))\n    temp_labels = []\n    \n    for i, idx in enumerate(state_indices):\n        state = tensor_states[idx]\n        # Combine ln_r and theta into a composite value\n        # Scale from 0-1 for visualization\n        ln_r_norm = (state['ln_r'] - np.min(state['ln_r'])) / (np.max(state['ln_r']) - np.min(state['ln_r']))\n        theta_norm = state['theta'] / (2*np.pi)\n        \n        # Use phase as matrix value, mark frozen tokens\n        matrix_data[:, i] = theta_norm\n        temp_labels.append(f\"T={state['temp']:.2f}\")\n    \n    # Create the matrix plot\n    im = plt.imshow(matrix_data, aspect='auto', cmap='plasma')\n    plt.colorbar(im, label='Token Phase (θ/2π)')\n    plt.xlabel('Temperature Stages')\n    plt.ylabel('Token Index')\n    plt.title('Token Phase Matrix Evolution')\n    plt.xticks(range(len(temp_labels)), temp_labels, rotation=45)\n    \n    # Show frozen tokens with hatching\n    for i, idx in enumerate(state_indices):\n        state = tensor_states[idx]\n        for j in range(n_tokens):\n            if state['frozen'][j]:\n                plt.plot([i], [j], 'r*', markersize=3)\n    \n    plt.tight_layout()\n    plt.savefig('notebook_outputs/phase_transition_visualization.png', dpi=300, bbox_inches='tight')\n    plt.show()\n    \n    return field, tensor_states\n\n# Run phase transition demonstration\nfield, tensor_states = demonstrate_phase_transition(n_tokens=50, steps=100)\n\n# Visualize the final state of the field in 2D\nplt.figure(figsize=(10, 8))\n\n# Get final state\nln_r = field.tokens['ln_r'].detach().cpu().numpy()\ntheta = field.tokens['theta'].detach().cpu().numpy()\nfrozen = field.tokens['frozen'].detach().cpu().numpy()\n\n# Convert to cartesian for visualization\nr = np.exp(ln_r)\nx = r * np.cos(theta)\ny = r * np.sin(theta)\n\n# Plot all tokens\nplt.scatter(x, y, c=theta, cmap='hsv', s=100, alpha=0.7)\n\n# Highlight frozen tokens\nif frozen.any():\n    plt.scatter(x[frozen], y[frozen], s=150, edgecolor='red', \n               facecolor='none', linewidth=2, label='Crystallized')\n    \n# Add field lines (logarithmic spirals)\nt = np.linspace(0, 4*np.pi, 1000)\nr_spiral = np.exp(t / (2*np.pi))\nfor phase in np.linspace(0, 2*np.pi, 8, endpoint=False):\n    x_spiral = r_spiral * np.cos(t + phase)\n    y_spiral = r_spiral * np.sin(t + phase)\n    plt.plot(x_spiral, y_spiral, 'k--', alpha=0.2, linewidth=0.5)\n\nplt.xlabel('X')\nplt.ylabel('Y')\nplt.title('Crystallized Quantum Field State', fontsize=14)\nplt.grid(True, alpha=0.3)\nplt.colorbar(label='θ (Phase)')\nplt.legend()\nplt.axis('equal')\n\n# Save visualization\nplt.savefig('notebook_outputs/crystallized_field_state.png', dpi=300, bbox_inches='tight')\nplt.show()\n\n# Print the mathematical description\nprint(\"The phase transition visualization demonstrates the Kosterlitz-Thouless (KT) transition\")\nprint(\"in the quantum field neural network. The mathematical formulation is given by:\")\nprint(\"\\nFree energy: F = U - TS\")\nprint(\"where the internal energy U reflects field topology, and entropy S measures disorder\")\nprint(\"\\nAt the critical temperature, the system undergoes a topological phase transition\")\nprint(\"from a computational phase (high temperature) to a crystallized phase (low temperature)\")\nprint(\"where certain tokens become fixed reference points (crystallized) in the field.\")",
   "metadata": {},
   "outputs": []
  },
  {
   "cell_type": "code",
   "source": "# Final comprehensive visualization: 3D log-cylindrical space of quantum field neural network\n# Ensure output directory exists\nimport os\nos.makedirs(\"notebook_outputs\", exist_ok=True)\n\n# Create a comprehensive visualization of the 3D log-cylindrical space\nfig = plt.figure(figsize=(14, 12))\nax = fig.add_subplot(111, projection='3d')\n\n# Initialize field visualization with more tokens for impressive visualization\nfield_viz = DualVortexField(100, device=device)\nfield_viz.initialize_tokens(pattern='golden_spiral')\n\n# Run a few steps to create trajectories\nfield_viz.track_positions = True  # Enable position tracking\nfor _ in range(20):\n    field_viz.step()\n\n# Get token positions (ensure CPU conversion)\nln_r = field_viz.tokens['ln_r'].cpu().numpy()\ntheta = field_viz.tokens['theta'].cpu().numpy()\nz = field_viz.tokens['z'].cpu().numpy()\nfrozen = field_viz.tokens['frozen'].cpu().numpy()\n\n# Convert to Cartesian\nr = np.exp(ln_r)\nx = r * np.cos(theta)\ny = r * np.sin(theta)\n\n# Plot tokens with color based on phase\nscatter = ax.scatter(x, y, z, c=theta, cmap='hsv', s=100, alpha=0.7)\n\n# Add helix trajectory for a few tokens\nfor i in range(5):\n    if len(field_viz.position_history) > 0:\n        trajectory = np.array([step[i] for step in field_viz.position_history])\n        ln_r_traj = trajectory[:, 0]\n        theta_traj = trajectory[:, 1]\n        z_traj = trajectory[:, 2]\n        \n        r_traj = np.exp(ln_r_traj)\n        x_traj = r_traj * np.cos(theta_traj)\n        y_traj = r_traj * np.sin(theta_traj)\n        \n        ax.plot(x_traj, y_traj, z_traj, 'y-', linewidth=2, alpha=0.7)\n\n# Add field lines\nfor z_level in np.linspace(np.min(z), np.max(z), 5):\n    # Add logarithmic spiral field lines at different z levels\n    t = np.linspace(0, 4*np.pi, 500)\n    r_spiral = np.exp(t / (2*np.pi))\n    for phase in np.linspace(0, 2*np.pi, 8, endpoint=False):\n        x_spiral = r_spiral * np.cos(t + phase)\n        y_spiral = r_spiral * np.sin(t + phase)\n        z_spiral = np.ones_like(t) * z_level\n        ax.plot(x_spiral, y_spiral, z_spiral, 'k--', alpha=0.15, linewidth=0.5)\n\n# Add vertical lines at characteristic radii (fibonacci sequence)\nfib_radii = [1, 1.618, 2.618, 4.236, 6.854]  # Fibonacci-derived radii\ntheta_range = np.linspace(0, 2*np.pi, 100)\nfor radius in fib_radii:\n    x_circle = radius * np.cos(theta_range)\n    y_circle = radius * np.sin(theta_range)\n    z_min, z_max = np.min(z), np.max(z)\n    ax.plot(x_circle, y_circle, np.ones_like(theta_range) * z_min, 'b-', alpha=0.2, linewidth=0.5)\n    ax.plot(x_circle, y_circle, np.ones_like(theta_range) * z_max, 'b-', alpha=0.2, linewidth=0.5)\n\n# Add \"rotor\" lines connecting different z-levels along constant phase\nfor phase in np.linspace(0, 2*np.pi, 16, endpoint=False):\n    z_range = np.linspace(np.min(z), np.max(z), 50)\n    for radius in [1, 1.618, 2.618, 4.236]:\n        x_line = radius * np.cos(phase) * np.ones_like(z_range)\n        y_line = radius * np.sin(phase) * np.ones_like(z_range)\n        ax.plot(x_line, y_line, z_range, 'g-', alpha=0.2, linewidth=0.5)\n\n# Highlight frozen tokens if any\nif frozen.any():\n    ax.scatter(x[frozen], y[frozen], z[frozen], color='red', s=150, edgecolor='yellow', \n              linewidth=2, marker='*', label='Crystallized')\n\n# Set labels and title\nax.set_xlabel('X = r·cos(θ)')\nax.set_ylabel('Y = r·sin(θ)')\nax.set_zlabel('Z (sequence dimension)')\nax.set_title('3D Log-Cylindrical Space of Quantum Field Neural Network', fontsize=14)\n\n# Add colorbar\ncbar = plt.colorbar(scatter, ax=ax, shrink=0.6, pad=0.1, aspect=20)\ncbar.set_label('Token Phase (θ)')\n\n# Add mathematical formulation\nax.text2D(0.02, 0.95, r\"$\\nabla^2 \\psi(r,\\theta,z) = \\frac{1}{r^2}\\frac{\\partial^2 \\psi}{\\partial \\theta^2} + \\frac{1}{r}\\frac{\\partial}{\\partial r}\\left(r\\frac{\\partial \\psi}{\\partial r}\\right) + \\frac{\\partial^2 \\psi}{\\partial z^2}$\", \n         transform=ax.transAxes, fontsize=12, bbox=dict(facecolor='white', alpha=0.7))\n\n# Set view angle\nax.view_init(30, 45)\n\n# Save and show the visualization\nplt.tight_layout()\nplt.savefig('notebook_outputs/log_cylindrical_3d_visualization.png', dpi=300, bbox_inches='tight')\nplt.show()\n\n# Print summary of model properties\nprint(\"\\nQuantum Field Neural Network Summary:\")\nprint(\"-------------------------------------\")\nprint(f\"Number of tokens: {field_viz.n_tokens}\")\nprint(f\"System dimensionality: 3D (ln(r), θ, z)\")\nprint(f\"Computational complexity: O(N log N)\")\nprint(f\"Field equations: Laplacian in log-cylindrical coordinates\")\nprint(f\"Crystallized tokens: {field_viz.tokens['frozen'].sum().item()}\")\nprint(\"\\nModel and visualization saved to notebook_outputs directory\")\n\n# Save the model\nimport pickle\nwith open('notebook_outputs/quantum_field_model.pkl', 'wb') as f:\n    pickle.dump({\n        'field': field_viz,\n        'token_positions': {\n            'ln_r': ln_r,\n            'theta': theta,\n            'z': z,\n            'frozen': frozen\n        },\n        'position_history': field_viz.position_history\n    }, f)\n\nprint(\"\\nVisualization complete. The log-cylindrical representation provides:\")\nprint(\"1. Numerical stability across orders of magnitude\")\nprint(\"2. Efficient O(N log N) attention mechanism\")\nprint(\"3. Phase transitions between computational and crystallized states\")\nprint(\"4. Natural handling of both local and global information\")\nprint(\"5. Emergent helical dynamics characteristic of quantum systems\")",
   "metadata": {},
   "outputs": []
  },
  {
   "cell_type": "code",
   "source": "# Create additional utility function to load and analyze saved models\ndef load_and_analyze_model(model_path='notebook_outputs/quantum_field_model.pkl'):\n    \"\"\"Load a saved quantum field model and analyze its properties.\"\"\"\n    import pickle\n    \n    # Load the model\n    with open(model_path, 'rb') as f:\n        model_data = pickle.load(f)\n    \n    field = model_data['field']\n    token_positions = model_data['token_positions']\n    position_history = model_data.get('position_history', [])\n    \n    print(f\"Loaded model with {field.n_tokens} tokens\")\n    \n    # Calculate field metrics\n    if hasattr(field, 'calculate_system_energy'):\n        energy = field.calculate_system_energy().item()\n        print(f\"System energy: {energy:.4f}\")\n    \n    # Calculate frozen ratio\n    frozen_count = token_positions['frozen'].sum()\n    frozen_ratio = frozen_count / len(token_positions['frozen'])\n    print(f\"Crystallization ratio: {frozen_ratio:.2f} ({frozen_count}/{len(token_positions['frozen'])})\")\n    \n    # Analyze position distributions\n    ln_r = token_positions['ln_r']\n    theta = token_positions['theta']\n    \n    print(\"\\nPosition Distribution Analysis:\")\n    print(f\"ln(r) range: [{ln_r.min():.2f}, {ln_r.max():.2f}]\")\n    print(f\"θ range: [{theta.min():.2f}, {theta.max():.2f}]\")\n    \n    # Calculate phase space density\n    from scipy.stats import gaussian_kde\n    \n    # Create phase space density plot\n    plt.figure(figsize=(12, 5))\n    \n    # Plot ln(r) distribution\n    plt.subplot(1, 2, 1)\n    if len(ln_r) > 3:  # Need at least 3 points for KDE\n        ln_r_density = gaussian_kde(ln_r)\n        ln_r_range = np.linspace(ln_r.min(), ln_r.max(), 100)\n        plt.plot(ln_r_range, ln_r_density(ln_r_range))\n    plt.hist(ln_r, bins=20, alpha=0.5, density=True)\n    plt.xlabel('ln(r)')\n    plt.ylabel('Density')\n    plt.title('Radial Distribution')\n    plt.grid(True, alpha=0.3)\n    \n    # Plot theta distribution\n    plt.subplot(1, 2, 2)\n    if len(theta) > 3:  # Need at least 3 points for KDE\n        theta_density = gaussian_kde(theta)\n        theta_range = np.linspace(theta.min(), theta.max(), 100)\n        plt.plot(theta_range, theta_density(theta_range))\n    plt.hist(theta, bins=20, alpha=0.5, density=True)\n    plt.xlabel('θ')\n    plt.ylabel('Density')\n    plt.title('Angular Distribution')\n    plt.grid(True, alpha=0.3)\n    \n    plt.tight_layout()\n    plt.savefig('notebook_outputs/token_distribution_analysis.png', dpi=300, bbox_inches='tight')\n    plt.show()\n    \n    # Analyze trajectories if available\n    if len(position_history) > 0:\n        # Get a sample token\n        token_idx = 0  # First token\n        \n        # Extract trajectory\n        trajectory = np.array([step[token_idx] for step in position_history])\n        \n        if len(trajectory) > 0:\n            ln_r_traj = trajectory[:, 0]\n            theta_traj = trajectory[:, 1]\n            z_traj = trajectory[:, 2] if trajectory.shape[1] > 2 else np.zeros_like(ln_r_traj)\n            \n            # Create trajectory phase portrait\n            plt.figure(figsize=(12, 10))\n            \n            # Plot trajectory in ln(r)-theta space\n            plt.subplot(2, 2, 1)\n            plt.plot(ln_r_traj, theta_traj, 'b.-')\n            plt.xlabel('ln(r)')\n            plt.ylabel('θ')\n            plt.title('Token Trajectory in ln(r)-θ Space')\n            plt.grid(True, alpha=0.3)\n            \n            # Plot r-theta space (polar)\n            plt.subplot(2, 2, 2, projection='polar')\n            r_traj = np.exp(ln_r_traj)\n            plt.plot(theta_traj, r_traj)\n            plt.title('Token Trajectory in Polar Space')\n            \n            # Plot 3D trajectory if z dimension available\n            if trajectory.shape[1] > 2:\n                ax = plt.subplot(2, 2, 3, projection='3d')\n                # Convert to Cartesian for 3D visualization\n                r_traj = np.exp(ln_r_traj)\n                x_traj = r_traj * np.cos(theta_traj)\n                y_traj = r_traj * np.sin(theta_traj)\n                \n                ax.plot(x_traj, y_traj, z_traj, 'r.-')\n                ax.set_xlabel('X')\n                ax.set_ylabel('Y')\n                ax.set_zlabel('Z')\n                ax.set_title('Token Trajectory in 3D Space')\n            \n            # Plot radial and angular velocities\n            plt.subplot(2, 2, 4)\n            if len(ln_r_traj) > 1:\n                radial_velocity = np.diff(ln_r_traj)\n                angular_velocity = np.diff(theta_traj)\n                \n                # Unwrap angular velocity for better visualization\n                for i in range(len(angular_velocity)):\n                    if angular_velocity[i] > np.pi:\n                        angular_velocity[i] -= 2*np.pi\n                    elif angular_velocity[i] < -np.pi:\n                        angular_velocity[i] += 2*np.pi\n                \n                plt.scatter(radial_velocity, angular_velocity, c=np.arange(len(radial_velocity)), \n                           cmap='viridis', alpha=0.7)\n                plt.colorbar(label='Time step')\n                plt.axhline(y=0, color='k', linestyle='--', alpha=0.3)\n                plt.axvline(x=0, color='k', linestyle='--', alpha=0.3)\n                plt.xlabel('Radial velocity (d ln(r)/dt)')\n                plt.ylabel('Angular velocity (dθ/dt)')\n                plt.title('Phase Space Velocity')\n                plt.grid(True, alpha=0.3)\n            \n            plt.tight_layout()\n            plt.savefig('notebook_outputs/token_trajectory_analysis.png', dpi=300, bbox_inches='tight')\n            plt.show()\n            \n            # Print mathematical observations\n            print(\"\\nTrajectory Analysis:\")\n            if len(ln_r_traj) > 1:\n                mean_radial_velocity = np.mean(np.abs(np.diff(ln_r_traj)))\n                mean_angular_velocity = np.mean(np.abs(np.diff(theta_traj)))\n                \n                print(f\"Mean radial velocity: {mean_radial_velocity:.4f}\")\n                print(f\"Mean angular velocity: {mean_angular_velocity:.4f}\")\n                \n                # Check for tachyonic tunneling (phase flips)\n                phase_flips = np.sum(np.abs(np.diff(theta_traj)) > np.pi)\n                print(f\"Detected {phase_flips} potential tachyonic tunneling events\")\n                \n                # Check for helical dynamics\n                helix_score = np.corrcoef(np.diff(ln_r_traj), np.diff(theta_traj))[0, 1]\n                print(f\"Helix correlation coefficient: {helix_score:.4f}\")\n                if abs(helix_score) > 0.7:\n                    print(\"Strong helical dynamics detected (correlated radial and angular motion)\")\n                elif abs(helix_score) > 0.3:\n                    print(\"Moderate helical dynamics detected\")\n                else:\n                    print(\"Weak or no helical dynamics detected\")\n    \n    return field, token_positions, position_history\n\n# Create a function to visualize token interactions and field energy distribution\ndef visualize_token_interactions(field, n_steps=5):\n    \"\"\"Visualize token interactions and field energy distribution.\"\"\"\n    print(\"Analyzing token interactions in the quantum field...\")\n    \n    # Run a few steps and record interaction data\n    interaction_data = []\n    for _ in range(n_steps):\n        # Create a heatmap of token interactions before stepping\n        ln_r = field.tokens['ln_r'].cpu().numpy()\n        theta = field.tokens['theta'].cpu().numpy()\n        \n        # Convert to cartesian for distance calculation\n        r = np.exp(ln_r)\n        x = r * np.cos(theta)\n        y = r * np.sin(theta)\n        \n        # Calculate pairwise distances in cartesian space\n        token_positions = np.column_stack([x, y])\n        n_tokens = len(token_positions)\n        \n        # Calculate interaction strength matrix\n        interaction_matrix = np.zeros((n_tokens, n_tokens))\n        \n        for i in range(n_tokens):\n            for j in range(i+1, n_tokens):\n                # Calculate Euclidean distance\n                dist = np.sqrt(np.sum((token_positions[i] - token_positions[j])**2))\n                \n                # Calculate interaction strength (inverse square law)\n                if dist > 0:\n                    interaction_strength = 1.0 / (dist**2)\n                else:\n                    interaction_strength = 1.0  # Self-interaction\n                \n                interaction_matrix[i, j] = interaction_strength\n                interaction_matrix[j, i] = interaction_strength  # Symmetric\n        \n        # Normalize interaction matrix\n        if np.max(interaction_matrix) > 0:\n            interaction_matrix = interaction_matrix / np.max(interaction_matrix)\n        \n        # Record data\n        interaction_data.append({\n            'step': _,\n            'matrix': interaction_matrix,\n            'ln_r': ln_r,\n            'theta': theta\n        })\n        \n        # Update field\n        field.step()\n    \n    # Visualize token interactions\n    plt.figure(figsize=(15, 12))\n    \n    # Plot token interactions at different steps\n    for i, data in enumerate(interaction_data[:min(4, len(interaction_data))]):\n        plt.subplot(2, 2, i+1)\n        plt.imshow(data['matrix'], cmap='inferno', interpolation='nearest')\n        plt.colorbar(label='Interaction Strength')\n        plt.title(f'Token Interactions (Step {data[\"step\"]})')\n        plt.xlabel('Token Index')\n        plt.ylabel('Token Index')\n    \n    plt.tight_layout()\n    plt.savefig('notebook_outputs/token_interactions.png', dpi=300, bbox_inches='tight')\n    plt.show()\n    \n    # Visualize field energy distribution\n    plt.figure(figsize=(15, 6))\n    \n    # Last step data\n    last_data = interaction_data[-1]\n    \n    # Plot token positions with interaction energy\n    plt.subplot(1, 2, 1)\n    \n    # Calculate token energy (sum of interactions)\n    token_energy = np.sum(last_data['matrix'], axis=1)\n    \n    # Convert to cartesian for visualization\n    r = np.exp(last_data['ln_r'])\n    x = r * np.cos(last_data['theta'])\n    y = r * np.sin(last_data['theta'])\n    \n    # Plot tokens with color representing energy\n    scatter = plt.scatter(x, y, c=token_energy, cmap='plasma', s=100, alpha=0.7)\n    plt.colorbar(scatter, label='Interaction Energy')\n    plt.xlabel('X')\n    plt.ylabel('Y')\n    plt.title('Token Energy Distribution')\n    plt.grid(True, alpha=0.3)\n    plt.axis('equal')\n    \n    # Plot energy distribution histogram\n    plt.subplot(1, 2, 2)\n    plt.hist(token_energy, bins=20, alpha=0.7, color='purple')\n    plt.xlabel('Interaction Energy')\n    plt.ylabel('Number of Tokens')\n    plt.title('Energy Distribution Histogram')\n    plt.grid(True, alpha=0.3)\n    \n    plt.tight_layout()\n    plt.savefig('notebook_outputs/energy_distribution.png', dpi=300, bbox_inches='tight')\n    plt.show()\n    \n    # Print analysis\n    print(\"\\nField Energy Analysis:\")\n    print(f\"Mean token energy: {np.mean(token_energy):.4f}\")\n    print(f\"Energy standard deviation: {np.std(token_energy):.4f}\")\n    print(f\"Energy skewness: {scipy.stats.skew(token_energy):.4f}\")\n    \n    # Identify high-energy tokens\n    high_energy_threshold = np.mean(token_energy) + np.std(token_energy)\n    high_energy_count = np.sum(token_energy > high_energy_threshold)\n    print(f\"High-energy tokens: {high_energy_count} ({high_energy_count/len(token_energy):.1%} of total)\")\n    \n    # Calculate field statistics\n    frozen = field.tokens['frozen'].cpu().numpy()\n    frozen_energy = token_energy[frozen] if np.any(frozen) else []\n    \n    if len(frozen_energy) > 0:\n        print(f\"Mean energy of crystallized tokens: {np.mean(frozen_energy):.4f}\")\n        print(f\"Energy ratio (crystallized/total): {np.mean(frozen_energy)/np.mean(token_energy):.2f}\")\n    \n    return interaction_data\n\n# Add final explanation section\nprint(\"\"\"\n# Quantum Field Neural Network: Mathematical Framework\n\nThe QFNN implementation uses a log-cylindrical coordinate system (ln(r), θ, z) \nto create a quantum field that enables efficient information propagation with \nO(N log N) computational complexity. Key mathematical components include:\n\n1. Log-Cylindrical Coordinates:\n   - ln(r): Logarithmic radial coordinate for scale-invariant processing\n   - θ: Angular coordinate for phase representation (0 to 2π)\n   - z: Vertical coordinate representing sequence position\n\n2. Field Equation:\n   The Laplacian in log-cylindrical coordinates governs field dynamics:\n   ∇²ψ(r,θ,z) = (1/r²)∂²ψ/∂θ² + (1/r)∂/∂r(r∂ψ/∂r) + ∂²ψ/∂z²\n\n3. Token Dynamics:\n   - Repulsive forces create natural attention patterns\n   - Tokens follow helical trajectories through log-cylindrical space\n   - Tachyonic tunneling occurs when angular velocity dominates\n\n4. Phase Transitions:\n   - Computational phase: Tokens freely move through field (high temperature)\n   - Crystallization phase: Tokens become fixed reference points (low temperature)\n   - Kosterlitz-Thouless (KT) transition at critical temperature\n\n5. Information Processing:\n   - Scale-invariant distances enable efficient attention across orders of magnitude\n   - Helical trajectories provide natural sequence modeling\n   - Phase crystallization creates stable memory\n\nThe system's visualization shows both the static structure of the field and the\ndynamic evolution of tokens through the quantum field, demonstrating how the\nlog-cylindrical space enables efficient sequence processing with natural handling\nof both local and global information.\n\"\"\")\n\n# Analyze the saved model\nprint(\"\\nAnalyzing saved quantum field model...\")\nfield, token_positions, position_history = load_and_analyze_model('notebook_outputs/quantum_field_model.pkl')\n\n# Visualize token interactions\ninteraction_data = visualize_token_interactions(field, n_steps=3)",
   "metadata": {},
   "outputs": []
  },
  {
   "cell_type": "code",
   "source": "# Import needed for the directory creation\nimport os\n\n# Create directory for notebook outputs if it doesn't exist\nos.makedirs(\"notebook_outputs\", exist_ok=True)\n\nprint(\"\"\"\n# Quantum Field Neural Network Summary\n\nThis notebook implements a quantum field neural network (QFNN) using log-cylindrical \nembeddings for efficient sequence processing. The implementation features:\n\n1. **Log-Cylindrical Coordinates**: Uses ln(r), θ, and z coordinates for numerical \n   stability across orders of magnitude, enabling O(N log N) computational complexity.\n\n2. **Dual Vortex Field**: Implements repulsive forces in log-space that create \n   natural attention patterns and enable efficient information propagation.\n\n3. **Tensor Operations**: Replaces explicit loops with efficient einsum operations \n   for better performance and numerical stability.\n\n4. **Quantum Properties**: Demonstrates tachyonic tunneling, phase flips, and helical\n   trajectories characteristic of quantum systems.\n\n5. **Phase Transitions**: Shows crystallization of tokens from computational phase\n   to fixed reference points in a Kosterlitz-Thouless transition.\n\n6. **Visualization**: Provides comprehensive visualizations of token positions,\n   field dynamics, energy distribution, and interaction patterns.\n\nAll visualizations properly convert tensors to CPU before visualization with\n.cpu().numpy() to ensure compatibility with matplotlib and other visualization tools.\n\nThe implementation demonstrates how log-cylindrical embeddings enable efficient\nsequence processing with natural handling of both local and global information,\ncreating a quantum field neural network with O(N log N) complexity.\n\"\"\")\n\n# Print out directory contents\nprint(\"\\nGenerated output files:\")\nfor file in sorted(os.listdir(\"notebook_outputs\")):\n    print(f\"- {file}\")",
   "metadata": {},
   "outputs": []
  }
 ],
 "metadata": {
  "kernelspec": {
   "display_name": "Python 3",
   "language": "python",
   "name": "python3"
  },
  "language_info": {
   "codemirror_mode": {
    "name": "ipython",
    "version": 3
   },
   "file_extension": ".py",
   "mimetype": "text/x-python",
   "name": "python",
   "nbconvert_exporter": "python",
   "pygments_lexer": "ipython3",
   "version": "3.10.12"
  }
 },
 "nbformat": 4,
 "nbformat_minor": 2
}